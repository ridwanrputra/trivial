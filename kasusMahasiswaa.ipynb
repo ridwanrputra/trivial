{
 "cells": [
  {
   "cell_type": "code",
   "execution_count": 1,
   "metadata": {
    "_cell_guid": "b1076dfc-b9ad-4769-8c92-a6c4dae69d19",
    "_uuid": "8f2839f25d086af736a60e9eeb907d3b93b6e0e5"
   },
   "outputs": [],
   "source": [
    "# This Python 3 environment comes with many helpful analytics libraries installed\n",
    "# It is defined by the kaggle/python Docker image: https://github.com/kaggle/docker-python\n",
    "# For example, here's several helpful packages to load\n",
    "\n",
    "import numpy as np # linear algebra\n",
    "import pandas as pd # data processing, CSV file I/O (e.g. pd.read_csv)\n",
    "\n",
    "# Input data files are available in the read-only \"../input/\" directory\n",
    "# For example, running this (by clicking run or pressing Shift+Enter) will list all files under the input directory\n",
    "\n",
    "import os\n",
    "for dirname, _, filenames in os.walk('/kaggle/input'):\n",
    "    for filename in filenames:\n",
    "        print(os.path.join(dirname, filename))\n",
    "\n",
    "# You can write up to 20GB to the current directory (/kaggle/working/) that gets preserved as output when you create a version using \"Save & Run All\" \n",
    "# You can also write temporary files to /kaggle/temp/, but they won't be saved outside of the current session"
   ]
  },
  {
   "cell_type": "code",
   "execution_count": null,
   "metadata": {},
   "outputs": [],
   "source": []
  },
  {
   "cell_type": "code",
   "execution_count": 23,
   "metadata": {},
   "outputs": [],
   "source": [
    "from sklearn.preprocessing import MinMaxScaler\n",
    "from sklearn.pipeline import Pipeline\n",
    "from category_encoders.ordinal import OrdinalEncoder\n",
    "from sklearn.model_selection import train_test_split\n",
    "from sklearn.naive_bayes import GaussianNB\n",
    "from sklearn.neural_network import MLPClassifier\n",
    "from sklearn.metrics import accuracy_score\n",
    "import pandas as pd\n",
    "import numpy as np"
   ]
  },
  {
   "cell_type": "code",
   "execution_count": null,
   "metadata": {
    "_cell_guid": "79c7e3d0-c299-4dcb-8224-4455121ee9b0",
    "_uuid": "d629ff2d2480ee46fbb7e2d37f6b5fab8052498a"
   },
   "outputs": [],
   "source": []
  },
  {
   "cell_type": "code",
   "execution_count": 8,
   "metadata": {},
   "outputs": [],
   "source": [
    "df = pd.read_excel(\"Data Training.xlsx\")"
   ]
  },
  {
   "cell_type": "code",
   "execution_count": null,
   "metadata": {},
   "outputs": [],
   "source": [
    "# import pandas_profiling\n",
    "\n",
    "\n",
    "# profile = pandas_profiling.ProfileReport(df)\n",
    "# profile.to_file(\"testdata.html\")"
   ]
  },
  {
   "cell_type": "code",
   "execution_count": 9,
   "metadata": {},
   "outputs": [],
   "source": [
    "y = df[\"Lulus\"]\n",
    "X = df.drop(['Lulus','NIM'],axis =1)"
   ]
  },
  {
   "cell_type": "code",
   "execution_count": 10,
   "metadata": {},
   "outputs": [
    {
     "data": {
      "text/html": [
       "<div>\n",
       "<style scoped>\n",
       "    .dataframe tbody tr th:only-of-type {\n",
       "        vertical-align: middle;\n",
       "    }\n",
       "\n",
       "    .dataframe tbody tr th {\n",
       "        vertical-align: top;\n",
       "    }\n",
       "\n",
       "    .dataframe thead th {\n",
       "        text-align: right;\n",
       "    }\n",
       "</style>\n",
       "<table border=\"1\" class=\"dataframe\">\n",
       "  <thead>\n",
       "    <tr style=\"text-align: right;\">\n",
       "      <th></th>\n",
       "      <th>Total SKS</th>\n",
       "      <th>Total Cuti</th>\n",
       "      <th>Semester Mahasiswa / Total Semester</th>\n",
       "      <th>IPS 1</th>\n",
       "      <th>IPS 2</th>\n",
       "      <th>IPS 3</th>\n",
       "      <th>IPS 4</th>\n",
       "    </tr>\n",
       "  </thead>\n",
       "  <tbody>\n",
       "    <tr>\n",
       "      <th>0</th>\n",
       "      <td>80</td>\n",
       "      <td>0</td>\n",
       "      <td>8</td>\n",
       "      <td>3.15</td>\n",
       "      <td>3.38</td>\n",
       "      <td>3.60</td>\n",
       "      <td>3.55</td>\n",
       "    </tr>\n",
       "    <tr>\n",
       "      <th>1</th>\n",
       "      <td>84</td>\n",
       "      <td>0</td>\n",
       "      <td>8</td>\n",
       "      <td>3.45</td>\n",
       "      <td>3.48</td>\n",
       "      <td>3.50</td>\n",
       "      <td>3.92</td>\n",
       "    </tr>\n",
       "    <tr>\n",
       "      <th>2</th>\n",
       "      <td>87</td>\n",
       "      <td>0</td>\n",
       "      <td>8</td>\n",
       "      <td>3.50</td>\n",
       "      <td>3.40</td>\n",
       "      <td>3.39</td>\n",
       "      <td>3.94</td>\n",
       "    </tr>\n",
       "    <tr>\n",
       "      <th>3</th>\n",
       "      <td>80</td>\n",
       "      <td>0</td>\n",
       "      <td>8</td>\n",
       "      <td>3.20</td>\n",
       "      <td>3.05</td>\n",
       "      <td>3.90</td>\n",
       "      <td>3.66</td>\n",
       "    </tr>\n",
       "    <tr>\n",
       "      <th>4</th>\n",
       "      <td>80</td>\n",
       "      <td>0</td>\n",
       "      <td>8</td>\n",
       "      <td>3.60</td>\n",
       "      <td>3.36</td>\n",
       "      <td>3.33</td>\n",
       "      <td>3.92</td>\n",
       "    </tr>\n",
       "    <tr>\n",
       "      <th>...</th>\n",
       "      <td>...</td>\n",
       "      <td>...</td>\n",
       "      <td>...</td>\n",
       "      <td>...</td>\n",
       "      <td>...</td>\n",
       "      <td>...</td>\n",
       "      <td>...</td>\n",
       "    </tr>\n",
       "    <tr>\n",
       "      <th>111</th>\n",
       "      <td>77</td>\n",
       "      <td>0</td>\n",
       "      <td>9</td>\n",
       "      <td>3.15</td>\n",
       "      <td>2.95</td>\n",
       "      <td>3.48</td>\n",
       "      <td>3.37</td>\n",
       "    </tr>\n",
       "    <tr>\n",
       "      <th>112</th>\n",
       "      <td>79</td>\n",
       "      <td>0</td>\n",
       "      <td>9</td>\n",
       "      <td>3.68</td>\n",
       "      <td>3.55</td>\n",
       "      <td>3.50</td>\n",
       "      <td>3.92</td>\n",
       "    </tr>\n",
       "    <tr>\n",
       "      <th>113</th>\n",
       "      <td>77</td>\n",
       "      <td>0</td>\n",
       "      <td>9</td>\n",
       "      <td>3.30</td>\n",
       "      <td>3.60</td>\n",
       "      <td>3.40</td>\n",
       "      <td>2.61</td>\n",
       "    </tr>\n",
       "    <tr>\n",
       "      <th>114</th>\n",
       "      <td>82</td>\n",
       "      <td>0</td>\n",
       "      <td>9</td>\n",
       "      <td>3.78</td>\n",
       "      <td>3.61</td>\n",
       "      <td>3.80</td>\n",
       "      <td>3.75</td>\n",
       "    </tr>\n",
       "    <tr>\n",
       "      <th>115</th>\n",
       "      <td>77</td>\n",
       "      <td>0</td>\n",
       "      <td>9</td>\n",
       "      <td>3.05</td>\n",
       "      <td>2.75</td>\n",
       "      <td>3.38</td>\n",
       "      <td>3.00</td>\n",
       "    </tr>\n",
       "  </tbody>\n",
       "</table>\n",
       "<p>116 rows × 7 columns</p>\n",
       "</div>"
      ],
      "text/plain": [
       "     Total SKS  Total Cuti  Semester Mahasiswa / Total Semester  IPS 1  IPS 2  \\\n",
       "0           80           0                                    8   3.15   3.38   \n",
       "1           84           0                                    8   3.45   3.48   \n",
       "2           87           0                                    8   3.50   3.40   \n",
       "3           80           0                                    8   3.20   3.05   \n",
       "4           80           0                                    8   3.60   3.36   \n",
       "..         ...         ...                                  ...    ...    ...   \n",
       "111         77           0                                    9   3.15   2.95   \n",
       "112         79           0                                    9   3.68   3.55   \n",
       "113         77           0                                    9   3.30   3.60   \n",
       "114         82           0                                    9   3.78   3.61   \n",
       "115         77           0                                    9   3.05   2.75   \n",
       "\n",
       "     IPS 3  IPS 4  \n",
       "0     3.60   3.55  \n",
       "1     3.50   3.92  \n",
       "2     3.39   3.94  \n",
       "3     3.90   3.66  \n",
       "4     3.33   3.92  \n",
       "..     ...    ...  \n",
       "111   3.48   3.37  \n",
       "112   3.50   3.92  \n",
       "113   3.40   2.61  \n",
       "114   3.80   3.75  \n",
       "115   3.38   3.00  \n",
       "\n",
       "[116 rows x 7 columns]"
      ]
     },
     "execution_count": 10,
     "metadata": {},
     "output_type": "execute_result"
    }
   ],
   "source": [
    "X"
   ]
  },
  {
   "cell_type": "code",
   "execution_count": 11,
   "metadata": {},
   "outputs": [],
   "source": [
    "Xtrain, Xtest, ytrain, ytest = train_test_split(X,y, test_size=0.2, random_state=38)"
   ]
  },
  {
   "cell_type": "code",
   "execution_count": 12,
   "metadata": {},
   "outputs": [
    {
     "data": {
      "text/plain": [
       "MinMaxScaler()"
      ]
     },
     "execution_count": 12,
     "metadata": {},
     "output_type": "execute_result"
    }
   ],
   "source": [
    "scaler = MinMaxScaler()\n",
    "scaler.fit(Xtrain)"
   ]
  },
  {
   "cell_type": "code",
   "execution_count": 13,
   "metadata": {},
   "outputs": [],
   "source": [
    "Xtrain = scaler.transform(Xtrain)"
   ]
  },
  {
   "cell_type": "code",
   "execution_count": 14,
   "metadata": {},
   "outputs": [],
   "source": [
    "nb = GaussianNB()\n",
    "mlp = MLPClassifier()"
   ]
  },
  {
   "cell_type": "code",
   "execution_count": 15,
   "metadata": {},
   "outputs": [
    {
     "name": "stderr",
     "output_type": "stream",
     "text": [
      "/home/specialthanks/.local/lib/python3.6/site-packages/sklearn/neural_network/_multilayer_perceptron.py:585: ConvergenceWarning: Stochastic Optimizer: Maximum iterations (200) reached and the optimization hasn't converged yet.\n",
      "  % self.max_iter, ConvergenceWarning)\n"
     ]
    },
    {
     "data": {
      "text/plain": [
       "GaussianNB()"
      ]
     },
     "execution_count": 15,
     "metadata": {},
     "output_type": "execute_result"
    }
   ],
   "source": [
    "mlp.fit(Xtrain,ytrain)\n",
    "nb.fit(Xtrain,ytrain)"
   ]
  },
  {
   "cell_type": "code",
   "execution_count": 16,
   "metadata": {},
   "outputs": [],
   "source": [
    "Xtest = scaler.transform(Xtest)"
   ]
  },
  {
   "cell_type": "code",
   "execution_count": 17,
   "metadata": {},
   "outputs": [
    {
     "data": {
      "text/plain": [
       "1.0"
      ]
     },
     "execution_count": 17,
     "metadata": {},
     "output_type": "execute_result"
    }
   ],
   "source": [
    "yhat1 = mlp.predict(Xtest)\n",
    "accuracy_score(yhat1,ytest)"
   ]
  },
  {
   "cell_type": "code",
   "execution_count": 18,
   "metadata": {},
   "outputs": [
    {
     "data": {
      "text/plain": [
       "1.0"
      ]
     },
     "execution_count": 18,
     "metadata": {},
     "output_type": "execute_result"
    }
   ],
   "source": [
    "yhat2 = nb.predict(Xtest)\n",
    "accuracy_score(yhat2,ytest)"
   ]
  },
  {
   "cell_type": "code",
   "execution_count": 19,
   "metadata": {},
   "outputs": [
    {
     "data": {
      "text/html": [
       "<div>\n",
       "<style scoped>\n",
       "    .dataframe tbody tr th:only-of-type {\n",
       "        vertical-align: middle;\n",
       "    }\n",
       "\n",
       "    .dataframe tbody tr th {\n",
       "        vertical-align: top;\n",
       "    }\n",
       "\n",
       "    .dataframe thead th {\n",
       "        text-align: right;\n",
       "    }\n",
       "</style>\n",
       "<table border=\"1\" class=\"dataframe\">\n",
       "  <thead>\n",
       "    <tr style=\"text-align: right;\">\n",
       "      <th></th>\n",
       "      <th>target</th>\n",
       "      <th>nb</th>\n",
       "      <th>mlp</th>\n",
       "    </tr>\n",
       "  </thead>\n",
       "  <tbody>\n",
       "    <tr>\n",
       "      <th>9</th>\n",
       "      <td>Tepat Waktu</td>\n",
       "      <td>Tepat Waktu</td>\n",
       "      <td>Tepat Waktu</td>\n",
       "    </tr>\n",
       "    <tr>\n",
       "      <th>98</th>\n",
       "      <td>Tidak Tepat Waktu</td>\n",
       "      <td>Tidak Tepat Waktu</td>\n",
       "      <td>Tidak Tepat Waktu</td>\n",
       "    </tr>\n",
       "    <tr>\n",
       "      <th>76</th>\n",
       "      <td>Tidak Tepat Waktu</td>\n",
       "      <td>Tidak Tepat Waktu</td>\n",
       "      <td>Tidak Tepat Waktu</td>\n",
       "    </tr>\n",
       "    <tr>\n",
       "      <th>112</th>\n",
       "      <td>Tidak Tepat Waktu</td>\n",
       "      <td>Tidak Tepat Waktu</td>\n",
       "      <td>Tidak Tepat Waktu</td>\n",
       "    </tr>\n",
       "    <tr>\n",
       "      <th>114</th>\n",
       "      <td>Tidak Tepat Waktu</td>\n",
       "      <td>Tidak Tepat Waktu</td>\n",
       "      <td>Tidak Tepat Waktu</td>\n",
       "    </tr>\n",
       "    <tr>\n",
       "      <th>85</th>\n",
       "      <td>Tidak Tepat Waktu</td>\n",
       "      <td>Tidak Tepat Waktu</td>\n",
       "      <td>Tidak Tepat Waktu</td>\n",
       "    </tr>\n",
       "    <tr>\n",
       "      <th>63</th>\n",
       "      <td>Tidak Tepat Waktu</td>\n",
       "      <td>Tidak Tepat Waktu</td>\n",
       "      <td>Tidak Tepat Waktu</td>\n",
       "    </tr>\n",
       "    <tr>\n",
       "      <th>42</th>\n",
       "      <td>Tepat Waktu</td>\n",
       "      <td>Tepat Waktu</td>\n",
       "      <td>Tepat Waktu</td>\n",
       "    </tr>\n",
       "    <tr>\n",
       "      <th>86</th>\n",
       "      <td>Tidak Tepat Waktu</td>\n",
       "      <td>Tidak Tepat Waktu</td>\n",
       "      <td>Tidak Tepat Waktu</td>\n",
       "    </tr>\n",
       "    <tr>\n",
       "      <th>17</th>\n",
       "      <td>Tepat Waktu</td>\n",
       "      <td>Tepat Waktu</td>\n",
       "      <td>Tepat Waktu</td>\n",
       "    </tr>\n",
       "    <tr>\n",
       "      <th>69</th>\n",
       "      <td>Tidak Tepat Waktu</td>\n",
       "      <td>Tidak Tepat Waktu</td>\n",
       "      <td>Tidak Tepat Waktu</td>\n",
       "    </tr>\n",
       "    <tr>\n",
       "      <th>49</th>\n",
       "      <td>Tepat Waktu</td>\n",
       "      <td>Tepat Waktu</td>\n",
       "      <td>Tepat Waktu</td>\n",
       "    </tr>\n",
       "    <tr>\n",
       "      <th>111</th>\n",
       "      <td>Tidak Tepat Waktu</td>\n",
       "      <td>Tidak Tepat Waktu</td>\n",
       "      <td>Tidak Tepat Waktu</td>\n",
       "    </tr>\n",
       "    <tr>\n",
       "      <th>35</th>\n",
       "      <td>Tepat Waktu</td>\n",
       "      <td>Tepat Waktu</td>\n",
       "      <td>Tepat Waktu</td>\n",
       "    </tr>\n",
       "    <tr>\n",
       "      <th>8</th>\n",
       "      <td>Tepat Waktu</td>\n",
       "      <td>Tepat Waktu</td>\n",
       "      <td>Tepat Waktu</td>\n",
       "    </tr>\n",
       "    <tr>\n",
       "      <th>16</th>\n",
       "      <td>Tepat Waktu</td>\n",
       "      <td>Tepat Waktu</td>\n",
       "      <td>Tepat Waktu</td>\n",
       "    </tr>\n",
       "    <tr>\n",
       "      <th>5</th>\n",
       "      <td>Tepat Waktu</td>\n",
       "      <td>Tepat Waktu</td>\n",
       "      <td>Tepat Waktu</td>\n",
       "    </tr>\n",
       "    <tr>\n",
       "      <th>80</th>\n",
       "      <td>Tidak Tepat Waktu</td>\n",
       "      <td>Tidak Tepat Waktu</td>\n",
       "      <td>Tidak Tepat Waktu</td>\n",
       "    </tr>\n",
       "    <tr>\n",
       "      <th>84</th>\n",
       "      <td>Tidak Tepat Waktu</td>\n",
       "      <td>Tidak Tepat Waktu</td>\n",
       "      <td>Tidak Tepat Waktu</td>\n",
       "    </tr>\n",
       "    <tr>\n",
       "      <th>34</th>\n",
       "      <td>Tidak Tepat Waktu</td>\n",
       "      <td>Tidak Tepat Waktu</td>\n",
       "      <td>Tidak Tepat Waktu</td>\n",
       "    </tr>\n",
       "    <tr>\n",
       "      <th>73</th>\n",
       "      <td>Tidak Tepat Waktu</td>\n",
       "      <td>Tidak Tepat Waktu</td>\n",
       "      <td>Tidak Tepat Waktu</td>\n",
       "    </tr>\n",
       "    <tr>\n",
       "      <th>107</th>\n",
       "      <td>Tidak Tepat Waktu</td>\n",
       "      <td>Tidak Tepat Waktu</td>\n",
       "      <td>Tidak Tepat Waktu</td>\n",
       "    </tr>\n",
       "    <tr>\n",
       "      <th>44</th>\n",
       "      <td>Tepat Waktu</td>\n",
       "      <td>Tepat Waktu</td>\n",
       "      <td>Tepat Waktu</td>\n",
       "    </tr>\n",
       "    <tr>\n",
       "      <th>66</th>\n",
       "      <td>Tidak Tepat Waktu</td>\n",
       "      <td>Tidak Tepat Waktu</td>\n",
       "      <td>Tidak Tepat Waktu</td>\n",
       "    </tr>\n",
       "  </tbody>\n",
       "</table>\n",
       "</div>"
      ],
      "text/plain": [
       "                target                 nb                mlp\n",
       "9          Tepat Waktu        Tepat Waktu        Tepat Waktu\n",
       "98   Tidak Tepat Waktu  Tidak Tepat Waktu  Tidak Tepat Waktu\n",
       "76   Tidak Tepat Waktu  Tidak Tepat Waktu  Tidak Tepat Waktu\n",
       "112  Tidak Tepat Waktu  Tidak Tepat Waktu  Tidak Tepat Waktu\n",
       "114  Tidak Tepat Waktu  Tidak Tepat Waktu  Tidak Tepat Waktu\n",
       "85   Tidak Tepat Waktu  Tidak Tepat Waktu  Tidak Tepat Waktu\n",
       "63   Tidak Tepat Waktu  Tidak Tepat Waktu  Tidak Tepat Waktu\n",
       "42         Tepat Waktu        Tepat Waktu        Tepat Waktu\n",
       "86   Tidak Tepat Waktu  Tidak Tepat Waktu  Tidak Tepat Waktu\n",
       "17         Tepat Waktu        Tepat Waktu        Tepat Waktu\n",
       "69   Tidak Tepat Waktu  Tidak Tepat Waktu  Tidak Tepat Waktu\n",
       "49         Tepat Waktu        Tepat Waktu        Tepat Waktu\n",
       "111  Tidak Tepat Waktu  Tidak Tepat Waktu  Tidak Tepat Waktu\n",
       "35         Tepat Waktu        Tepat Waktu        Tepat Waktu\n",
       "8          Tepat Waktu        Tepat Waktu        Tepat Waktu\n",
       "16         Tepat Waktu        Tepat Waktu        Tepat Waktu\n",
       "5          Tepat Waktu        Tepat Waktu        Tepat Waktu\n",
       "80   Tidak Tepat Waktu  Tidak Tepat Waktu  Tidak Tepat Waktu\n",
       "84   Tidak Tepat Waktu  Tidak Tepat Waktu  Tidak Tepat Waktu\n",
       "34   Tidak Tepat Waktu  Tidak Tepat Waktu  Tidak Tepat Waktu\n",
       "73   Tidak Tepat Waktu  Tidak Tepat Waktu  Tidak Tepat Waktu\n",
       "107  Tidak Tepat Waktu  Tidak Tepat Waktu  Tidak Tepat Waktu\n",
       "44         Tepat Waktu        Tepat Waktu        Tepat Waktu\n",
       "66   Tidak Tepat Waktu  Tidak Tepat Waktu  Tidak Tepat Waktu"
      ]
     },
     "execution_count": 19,
     "metadata": {},
     "output_type": "execute_result"
    }
   ],
   "source": [
    "res = pd.DataFrame()\n",
    "res[\"target\"] = ytest\n",
    "res[\"nb\"] = yhat2\n",
    "res[\"mlp\"] = yhat1\n",
    "res"
   ]
  },
  {
   "cell_type": "code",
   "execution_count": 27,
   "metadata": {},
   "outputs": [],
   "source": [
    "datamanual = np.array([[1504030001, 0.35714286,  0. ,  0. ,  0.50847458,  0.4972973 ,  0.74074074,  0.56115108]])"
   ]
  },
  {
   "cell_type": "code",
   "execution_count": 28,
   "metadata": {},
   "outputs": [
    {
     "data": {
      "text/plain": [
       "array([1.50403e+09])"
      ]
     },
     "execution_count": 28,
     "metadata": {},
     "output_type": "execute_result"
    }
   ],
   "source": [
    "datamanual[0:,0]"
   ]
  },
  {
   "cell_type": "code",
   "execution_count": 29,
   "metadata": {},
   "outputs": [
    {
     "data": {
      "text/plain": [
       "array([0.35714286, 0.        , 0.        , 0.50847458, 0.4972973 ,\n",
       "       0.74074074, 0.56115108])"
      ]
     },
     "execution_count": 29,
     "metadata": {},
     "output_type": "execute_result"
    }
   ],
   "source": [
    "datamanual[0,1:]"
   ]
  },
  {
   "cell_type": "code",
   "execution_count": 30,
   "metadata": {},
   "outputs": [],
   "source": [
    "Xdatamanual = scaler.transform(datamanual[0,1:].reshape(1, -1))\n"
   ]
  },
  {
   "cell_type": "code",
   "execution_count": 31,
   "metadata": {},
   "outputs": [
    {
     "data": {
      "text/plain": [
       "'mahasiswa 1504030001.0 Tepat Waktu'"
      ]
     },
     "execution_count": 31,
     "metadata": {},
     "output_type": "execute_result"
    }
   ],
   "source": [
    "\"mahasiswa \" + str(datamanual[0:,0][0]) + \" \"+ mlp.predict(Xdatamanual)[0]"
   ]
  },
  {
   "cell_type": "code",
   "execution_count": null,
   "metadata": {},
   "outputs": [],
   "source": []
  }
 ],
 "metadata": {
  "kernelspec": {
   "display_name": "Python 3",
   "language": "python",
   "name": "python3"
  },
  "language_info": {
   "codemirror_mode": {
    "name": "ipython",
    "version": 3
   },
   "file_extension": ".py",
   "mimetype": "text/x-python",
   "name": "python",
   "nbconvert_exporter": "python",
   "pygments_lexer": "ipython3",
   "version": "3.6.9"
  }
 },
 "nbformat": 4,
 "nbformat_minor": 4
}
